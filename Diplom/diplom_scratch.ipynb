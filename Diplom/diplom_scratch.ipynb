{
 "cells": [
  {
   "cell_type": "markdown",
   "metadata": {
    "collapsed": true,
    "pycharm": {
     "name": "#%% md\n"
    }
   },
   "source": [
    "Задание\n",
    "Дан файл HR.csv с данными по опросу уровня удовлетворенности сотрудниками работой.\n",
    "Файл доступен тут -\n",
    "https://drive.google.com/file/d/1INgo03nal-vwFJe7Lec5vOUtOwfJdUr1/view?usp=sharing\n",
    "Признаки:\n",
    "\n",
    "1. satisfaction_level - Уровень удовлетворенности работой\n",
    "2. Last_evaluation - Время с момента последней оценки в годах\n",
    "3. number_projects - Количество проектов, выполненных за время работы\n",
    "4. average_monthly_hours - Среднее количество часов на рабочем месте в месяц\n",
    "5. time_spend_company - Стаж работы в компании в годах\n",
    "6. work_accident - Происходили ли несчастные случаи на рабочем месте с сотрудником\n",
    "7. left - уволился ли сотрудник\n",
    "8. promotion_last_5years - повышался ли сотрудник за последние пять лет\n",
    "9. department - отдел в котором работает сотрудник\n",
    "10. salary - относительный уровень зарплаты'\n",
    "\n",
    "Требуется выполнить следующее задание:\n",
    "#   Задание                                                             Баллы\n",
    "1   Загрузите файл HR.csv в pandas dataframe                            5\n",
    "2   Рассчитайте основные статистики для переменных\n",
    "(среднее,медиана,мода,мин/макс,сред.отклонение).                        10\n",
    "3   Рассчитайте и визуализировать корреляционную матрицу для\n",
    "количественных переменных.\n",
    "Определите две самые скоррелированные и две наименее\n",
    "скоррелированные переменные.                                            10\n",
    "4   Рассчитайте сколько сотрудников работает в каждом\n",
    "департаменте.                                                           5\n",
    "5   Показать распределение сотрудников по зарплатам.                    5\n",
    "6   Показать распределение сотрудников по зарплатам в каждом\n",
    "департаменте по отдельности\n",
    "5\n",
    "7   Проверить гипотезу, что сотрудники с высоким окладом\n",
    "проводят на работе больше времени, чем сотрудники с низким\n",
    "окладом\n",
    "10\n",
    "8   Рассчитать следующие показатели среди уволившихся и не\n",
    "уволившихся сотрудников (по отдельности):\n",
    "10\n",
    "● Доля сотрудников с повышением за последние 5 лет\n",
    "● Средняя степень удовлетворенности\n",
    "● Среднее количество проектов\n",
    "9   Разделить данные на тестовую и обучающую выборки\n",
    "Построить модель LDA, предсказывающую уволился ли\n",
    "сотрудник на основе имеющихся факторов (кроме department и\n",
    "salary)\n",
    "Оценить качество модели на тестовой выборки                             20\n",
    "10  Загрузить jupyter notebook с решение на github и прислать ссылку    5\n",
    "\n",
    "Итого - максимум 85 баллов\n",
    "Для зачета необходимо набрать минимум 55"
   ]
  },
  {
   "cell_type": "code",
   "execution_count": 44,
   "outputs": [
    {
     "data": {
      "text/plain": "   satisfaction_level  last_evaluation  number_project  average_montly_hours  \\\n0                0.38             0.53               2                   157   \n1                0.80             0.86               5                   262   \n2                0.11             0.88               7                   272   \n3                0.72             0.87               5                   223   \n4                0.37             0.52               2                   159   \n\n   time_spend_company  Work_accident  left  promotion_last_5years department  \\\n0                   3              0     1                      0      sales   \n1                   6              0     1                      0      sales   \n2                   4              0     1                      0      sales   \n3                   5              0     1                      0      sales   \n4                   3              0     1                      0      sales   \n\n   salary  \n0     low  \n1  medium  \n2  medium  \n3     low  \n4     low  ",
      "text/html": "<div>\n<style scoped>\n    .dataframe tbody tr th:only-of-type {\n        vertical-align: middle;\n    }\n\n    .dataframe tbody tr th {\n        vertical-align: top;\n    }\n\n    .dataframe thead th {\n        text-align: right;\n    }\n</style>\n<table border=\"1\" class=\"dataframe\">\n  <thead>\n    <tr style=\"text-align: right;\">\n      <th></th>\n      <th>satisfaction_level</th>\n      <th>last_evaluation</th>\n      <th>number_project</th>\n      <th>average_montly_hours</th>\n      <th>time_spend_company</th>\n      <th>Work_accident</th>\n      <th>left</th>\n      <th>promotion_last_5years</th>\n      <th>department</th>\n      <th>salary</th>\n    </tr>\n  </thead>\n  <tbody>\n    <tr>\n      <th>0</th>\n      <td>0.38</td>\n      <td>0.53</td>\n      <td>2</td>\n      <td>157</td>\n      <td>3</td>\n      <td>0</td>\n      <td>1</td>\n      <td>0</td>\n      <td>sales</td>\n      <td>low</td>\n    </tr>\n    <tr>\n      <th>1</th>\n      <td>0.80</td>\n      <td>0.86</td>\n      <td>5</td>\n      <td>262</td>\n      <td>6</td>\n      <td>0</td>\n      <td>1</td>\n      <td>0</td>\n      <td>sales</td>\n      <td>medium</td>\n    </tr>\n    <tr>\n      <th>2</th>\n      <td>0.11</td>\n      <td>0.88</td>\n      <td>7</td>\n      <td>272</td>\n      <td>4</td>\n      <td>0</td>\n      <td>1</td>\n      <td>0</td>\n      <td>sales</td>\n      <td>medium</td>\n    </tr>\n    <tr>\n      <th>3</th>\n      <td>0.72</td>\n      <td>0.87</td>\n      <td>5</td>\n      <td>223</td>\n      <td>5</td>\n      <td>0</td>\n      <td>1</td>\n      <td>0</td>\n      <td>sales</td>\n      <td>low</td>\n    </tr>\n    <tr>\n      <th>4</th>\n      <td>0.37</td>\n      <td>0.52</td>\n      <td>2</td>\n      <td>159</td>\n      <td>3</td>\n      <td>0</td>\n      <td>1</td>\n      <td>0</td>\n      <td>sales</td>\n      <td>low</td>\n    </tr>\n  </tbody>\n</table>\n</div>"
     },
     "execution_count": 44,
     "metadata": {},
     "output_type": "execute_result"
    }
   ],
   "source": [
    "import pandas as pd\n",
    "import matplotlib.pyplot as plt\n",
    "import numpy as np\n",
    "# Загрузите файл HR.csv в pandas dataframe\n",
    "hr = pd.read_csv('EXAM/HR.csv') # , dtype={\"satisfaction_level\": np.float64, \"c\": np.float64, \"d\": \"Int64\"})\n",
    "hr.head()"
   ],
   "metadata": {
    "collapsed": false,
    "pycharm": {
     "name": "#%%\n"
    }
   }
  },
  {
   "cell_type": "code",
   "execution_count": 3,
   "outputs": [
    {
     "data": {
      "text/plain": "       satisfaction_level  last_evaluation  number_project  \\\ncount        14999.000000     14999.000000    14999.000000   \nmean             0.612834         0.716102        3.803054   \nstd              0.248631         0.171169        1.232592   \nmin              0.090000         0.360000        2.000000   \n25%              0.440000         0.560000        3.000000   \n50%              0.640000         0.720000        4.000000   \n75%              0.820000         0.870000        5.000000   \nmax              1.000000         1.000000        7.000000   \n\n       average_montly_hours  time_spend_company  Work_accident          left  \\\ncount          14999.000000        14999.000000   14999.000000  14999.000000   \nmean             201.050337            3.498233       0.144610      0.238083   \nstd               49.943099            1.460136       0.351719      0.425924   \nmin               96.000000            2.000000       0.000000      0.000000   \n25%              156.000000            3.000000       0.000000      0.000000   \n50%              200.000000            3.000000       0.000000      0.000000   \n75%              245.000000            4.000000       0.000000      0.000000   \nmax              310.000000           10.000000       1.000000      1.000000   \n\n       promotion_last_5years  \ncount           14999.000000  \nmean                0.021268  \nstd                 0.144281  \nmin                 0.000000  \n25%                 0.000000  \n50%                 0.000000  \n75%                 0.000000  \nmax                 1.000000  ",
      "text/html": "<div>\n<style scoped>\n    .dataframe tbody tr th:only-of-type {\n        vertical-align: middle;\n    }\n\n    .dataframe tbody tr th {\n        vertical-align: top;\n    }\n\n    .dataframe thead th {\n        text-align: right;\n    }\n</style>\n<table border=\"1\" class=\"dataframe\">\n  <thead>\n    <tr style=\"text-align: right;\">\n      <th></th>\n      <th>satisfaction_level</th>\n      <th>last_evaluation</th>\n      <th>number_project</th>\n      <th>average_montly_hours</th>\n      <th>time_spend_company</th>\n      <th>Work_accident</th>\n      <th>left</th>\n      <th>promotion_last_5years</th>\n    </tr>\n  </thead>\n  <tbody>\n    <tr>\n      <th>count</th>\n      <td>14999.000000</td>\n      <td>14999.000000</td>\n      <td>14999.000000</td>\n      <td>14999.000000</td>\n      <td>14999.000000</td>\n      <td>14999.000000</td>\n      <td>14999.000000</td>\n      <td>14999.000000</td>\n    </tr>\n    <tr>\n      <th>mean</th>\n      <td>0.612834</td>\n      <td>0.716102</td>\n      <td>3.803054</td>\n      <td>201.050337</td>\n      <td>3.498233</td>\n      <td>0.144610</td>\n      <td>0.238083</td>\n      <td>0.021268</td>\n    </tr>\n    <tr>\n      <th>std</th>\n      <td>0.248631</td>\n      <td>0.171169</td>\n      <td>1.232592</td>\n      <td>49.943099</td>\n      <td>1.460136</td>\n      <td>0.351719</td>\n      <td>0.425924</td>\n      <td>0.144281</td>\n    </tr>\n    <tr>\n      <th>min</th>\n      <td>0.090000</td>\n      <td>0.360000</td>\n      <td>2.000000</td>\n      <td>96.000000</td>\n      <td>2.000000</td>\n      <td>0.000000</td>\n      <td>0.000000</td>\n      <td>0.000000</td>\n    </tr>\n    <tr>\n      <th>25%</th>\n      <td>0.440000</td>\n      <td>0.560000</td>\n      <td>3.000000</td>\n      <td>156.000000</td>\n      <td>3.000000</td>\n      <td>0.000000</td>\n      <td>0.000000</td>\n      <td>0.000000</td>\n    </tr>\n    <tr>\n      <th>50%</th>\n      <td>0.640000</td>\n      <td>0.720000</td>\n      <td>4.000000</td>\n      <td>200.000000</td>\n      <td>3.000000</td>\n      <td>0.000000</td>\n      <td>0.000000</td>\n      <td>0.000000</td>\n    </tr>\n    <tr>\n      <th>75%</th>\n      <td>0.820000</td>\n      <td>0.870000</td>\n      <td>5.000000</td>\n      <td>245.000000</td>\n      <td>4.000000</td>\n      <td>0.000000</td>\n      <td>0.000000</td>\n      <td>0.000000</td>\n    </tr>\n    <tr>\n      <th>max</th>\n      <td>1.000000</td>\n      <td>1.000000</td>\n      <td>7.000000</td>\n      <td>310.000000</td>\n      <td>10.000000</td>\n      <td>1.000000</td>\n      <td>1.000000</td>\n      <td>1.000000</td>\n    </tr>\n  </tbody>\n</table>\n</div>"
     },
     "execution_count": 3,
     "metadata": {},
     "output_type": "execute_result"
    }
   ],
   "source": [
    "# Рассчитайте основные статистики для переменных (среднее,медиана,мода,мин/макс,сред.отклонение).\n",
    "hr.describe()"
   ],
   "metadata": {
    "collapsed": false,
    "pycharm": {
     "name": "#%%\n"
    }
   }
  },
  {
   "cell_type": "code",
   "execution_count": 13,
   "outputs": [
    {
     "name": "stderr",
     "output_type": "stream",
     "text": [
      "C:\\Users\\iplah\\AppData\\Local\\Temp/ipykernel_13544/2113691466.py:1: FutureWarning: Dropping of nuisance columns in DataFrame reductions (with 'numeric_only=None') is deprecated; in a future version this will raise TypeError.  Select only valid columns before calling the reduction.\n",
      "  hr.median()\n"
     ]
    },
    {
     "data": {
      "text/plain": "satisfaction_level         0.64\nlast_evaluation            0.72\nnumber_project             4.00\naverage_montly_hours     200.00\ntime_spend_company         3.00\nWork_accident              0.00\nleft                       0.00\npromotion_last_5years      0.00\ndtype: float64"
     },
     "execution_count": 13,
     "metadata": {},
     "output_type": "execute_result"
    }
   ],
   "source": [
    "hr.median()"
   ],
   "metadata": {
    "collapsed": false,
    "pycharm": {
     "name": "#%%\n"
    }
   }
  },
  {
   "cell_type": "code",
   "execution_count": 46,
   "outputs": [
    {
     "data": {
      "text/plain": "                       satisfaction_level  last_evaluation  number_project  \\\nsatisfaction_level               1.000000         0.105021       -0.142970   \nlast_evaluation                  0.105021         1.000000        0.349333   \nnumber_project                  -0.142970         0.349333        1.000000   \naverage_montly_hours            -0.020048         0.339742        0.417211   \ntime_spend_company              -0.100866         0.131591        0.196786   \nWork_accident                    0.058697        -0.007104       -0.004741   \nleft                            -0.388375         0.006567        0.023787   \npromotion_last_5years            0.025605        -0.008684       -0.006064   \n\n                       average_montly_hours  time_spend_company  \\\nsatisfaction_level                -0.020048           -0.100866   \nlast_evaluation                    0.339742            0.131591   \nnumber_project                     0.417211            0.196786   \naverage_montly_hours               1.000000            0.127755   \ntime_spend_company                 0.127755            1.000000   \nWork_accident                     -0.010143            0.002120   \nleft                               0.071287            0.144822   \npromotion_last_5years             -0.003544            0.067433   \n\n                       Work_accident      left  promotion_last_5years  \nsatisfaction_level          0.058697 -0.388375               0.025605  \nlast_evaluation            -0.007104  0.006567              -0.008684  \nnumber_project             -0.004741  0.023787              -0.006064  \naverage_montly_hours       -0.010143  0.071287              -0.003544  \ntime_spend_company          0.002120  0.144822               0.067433  \nWork_accident               1.000000 -0.154622               0.039245  \nleft                       -0.154622  1.000000              -0.061788  \npromotion_last_5years       0.039245 -0.061788               1.000000  ",
      "text/html": "<div>\n<style scoped>\n    .dataframe tbody tr th:only-of-type {\n        vertical-align: middle;\n    }\n\n    .dataframe tbody tr th {\n        vertical-align: top;\n    }\n\n    .dataframe thead th {\n        text-align: right;\n    }\n</style>\n<table border=\"1\" class=\"dataframe\">\n  <thead>\n    <tr style=\"text-align: right;\">\n      <th></th>\n      <th>satisfaction_level</th>\n      <th>last_evaluation</th>\n      <th>number_project</th>\n      <th>average_montly_hours</th>\n      <th>time_spend_company</th>\n      <th>Work_accident</th>\n      <th>left</th>\n      <th>promotion_last_5years</th>\n    </tr>\n  </thead>\n  <tbody>\n    <tr>\n      <th>satisfaction_level</th>\n      <td>1.000000</td>\n      <td>0.105021</td>\n      <td>-0.142970</td>\n      <td>-0.020048</td>\n      <td>-0.100866</td>\n      <td>0.058697</td>\n      <td>-0.388375</td>\n      <td>0.025605</td>\n    </tr>\n    <tr>\n      <th>last_evaluation</th>\n      <td>0.105021</td>\n      <td>1.000000</td>\n      <td>0.349333</td>\n      <td>0.339742</td>\n      <td>0.131591</td>\n      <td>-0.007104</td>\n      <td>0.006567</td>\n      <td>-0.008684</td>\n    </tr>\n    <tr>\n      <th>number_project</th>\n      <td>-0.142970</td>\n      <td>0.349333</td>\n      <td>1.000000</td>\n      <td>0.417211</td>\n      <td>0.196786</td>\n      <td>-0.004741</td>\n      <td>0.023787</td>\n      <td>-0.006064</td>\n    </tr>\n    <tr>\n      <th>average_montly_hours</th>\n      <td>-0.020048</td>\n      <td>0.339742</td>\n      <td>0.417211</td>\n      <td>1.000000</td>\n      <td>0.127755</td>\n      <td>-0.010143</td>\n      <td>0.071287</td>\n      <td>-0.003544</td>\n    </tr>\n    <tr>\n      <th>time_spend_company</th>\n      <td>-0.100866</td>\n      <td>0.131591</td>\n      <td>0.196786</td>\n      <td>0.127755</td>\n      <td>1.000000</td>\n      <td>0.002120</td>\n      <td>0.144822</td>\n      <td>0.067433</td>\n    </tr>\n    <tr>\n      <th>Work_accident</th>\n      <td>0.058697</td>\n      <td>-0.007104</td>\n      <td>-0.004741</td>\n      <td>-0.010143</td>\n      <td>0.002120</td>\n      <td>1.000000</td>\n      <td>-0.154622</td>\n      <td>0.039245</td>\n    </tr>\n    <tr>\n      <th>left</th>\n      <td>-0.388375</td>\n      <td>0.006567</td>\n      <td>0.023787</td>\n      <td>0.071287</td>\n      <td>0.144822</td>\n      <td>-0.154622</td>\n      <td>1.000000</td>\n      <td>-0.061788</td>\n    </tr>\n    <tr>\n      <th>promotion_last_5years</th>\n      <td>0.025605</td>\n      <td>-0.008684</td>\n      <td>-0.006064</td>\n      <td>-0.003544</td>\n      <td>0.067433</td>\n      <td>0.039245</td>\n      <td>-0.061788</td>\n      <td>1.000000</td>\n    </tr>\n  </tbody>\n</table>\n</div>"
     },
     "execution_count": 46,
     "metadata": {},
     "output_type": "execute_result"
    }
   ],
   "source": [
    "# Рассчитайте и визуализировать корреляционную матрицу для количественных переменных.\n",
    "# Определите две самые скоррелированные и две наименее скоррелированные переменные.\n",
    "hr.corr()"
   ],
   "metadata": {
    "collapsed": false,
    "pycharm": {
     "name": "#%%\n"
    }
   }
  },
  {
   "cell_type": "code",
   "execution_count": 5,
   "outputs": [
    {
     "data": {
      "text/plain": "<matplotlib.image.AxesImage at 0x2852ad56130>"
     },
     "execution_count": 5,
     "metadata": {},
     "output_type": "execute_result"
    },
    {
     "data": {
      "text/plain": "<Figure size 288x288 with 1 Axes>",
      "image/png": "[encoded data removed]"
     },
     "metadata": {
      "needs_background": "light"
     },
     "output_type": "display_data"
    }
   ],
   "source": [
    "plt.matshow(hr.corr())"
   ],
   "metadata": {
    "collapsed": false,
    "pycharm": {
     "name": "#%%\n"
    }
   }
  },
  {
   "cell_type": "code",
   "execution_count": 19,
   "outputs": [
    {
     "data": {
      "text/plain": "department\nIT             1227\nRandD           787\naccounting      767\nhr              739\nmanagement      630\nmarketing       858\nproduct_mng     902\nsales          4140\nsupport        2229\ntechnical      2720\ndtype: int64"
     },
     "execution_count": 19,
     "metadata": {},
     "output_type": "execute_result"
    }
   ],
   "source": [
    "# Рассчитайте сколько сотрудников работает в каждом департаменте.\n",
    "hr.groupby('department').size()"
   ],
   "metadata": {
    "collapsed": false,
    "pycharm": {
     "name": "#%%\n"
    }
   }
  },
  {
   "cell_type": "code",
   "source": [
    "# Показать распределение сотрудников по зарплатам\n",
    "hr.groupby('salary').size()"
   ],
   "metadata": {
    "collapsed": false,
    "pycharm": {
     "name": "#%%\n"
    }
   },
   "execution_count": 3,
   "outputs": [
    {
     "name": "stdout",
     "output_type": "stream",
     "text": [
      "salary\n",
      "high      1237\n",
      "low       7316\n",
      "medium    6446\n",
      "dtype: int64\n"
     ]
    }
   ]
  },
  {
   "cell_type": "code",
   "execution_count": 15,
   "outputs": [
    {
     "data": {
      "text/plain": "department   salary\nIT           high        83\n             low        609\n             medium     535\nRandD        high        51\n             low        364\n             medium     372\naccounting   high        74\n             low        358\n             medium     335\nhr           high        45\n             low        335\n             medium     359\nmanagement   high       225\n             low        180\n             medium     225\nmarketing    high        80\n             low        402\n             medium     376\nproduct_mng  high        68\n             low        451\n             medium     383\nsales        high       269\n             low       2099\n             medium    1772\nsupport      high       141\n             low       1146\n             medium     942\ntechnical    high       201\n             low       1372\n             medium    1147\ndtype: int64"
     },
     "execution_count": 15,
     "metadata": {},
     "output_type": "execute_result"
    }
   ],
   "source": [
    "# Показать распределение сотрудников по зарплатам в каждом департаменте по отдельности\n",
    "hr.groupby(['department', 'salary']).size()"
   ],
   "metadata": {
    "collapsed": false,
    "pycharm": {
     "name": "#%%\n"
    }
   }
  },
  {
   "cell_type": "code",
   "execution_count": 27,
   "outputs": [
    {
     "data": {
      "text/plain": "        average_montly_hours\nsalary                      \nhigh              199.867421\nlow               200.996583\nmedium            201.338349",
      "text/html": "<div>\n<style scoped>\n    .dataframe tbody tr th:only-of-type {\n        vertical-align: middle;\n    }\n\n    .dataframe tbody tr th {\n        vertical-align: top;\n    }\n\n    .dataframe thead th {\n        text-align: right;\n    }\n</style>\n<table border=\"1\" class=\"dataframe\">\n  <thead>\n    <tr style=\"text-align: right;\">\n      <th></th>\n      <th>average_montly_hours</th>\n    </tr>\n    <tr>\n      <th>salary</th>\n      <th></th>\n    </tr>\n  </thead>\n  <tbody>\n    <tr>\n      <th>high</th>\n      <td>199.867421</td>\n    </tr>\n    <tr>\n      <th>low</th>\n      <td>200.996583</td>\n    </tr>\n    <tr>\n      <th>medium</th>\n      <td>201.338349</td>\n    </tr>\n  </tbody>\n</table>\n</div>"
     },
     "execution_count": 27,
     "metadata": {},
     "output_type": "execute_result"
    }
   ],
   "source": [
    "# Проверить гипотезу, что сотрудники с высоким окладом проводят на работе больше времени, чем сотрудники с низким окладом\n",
    "\n",
    "# x = hr.drop_duplicates('salary')\n",
    "hr[['salary','average_montly_hours']].groupby('salary').mean('average_montly_hours')"
   ],
   "metadata": {
    "collapsed": false,
    "pycharm": {
     "name": "#%%\n"
    }
   }
  },
  {
   "cell_type": "code",
   "execution_count": 58,
   "outputs": [
    {
     "data": {
      "text/plain": "0.006139987163807338"
     },
     "execution_count": 58,
     "metadata": {},
     "output_type": "execute_result"
    }
   ],
   "source": [
    "from scipy.stats.stats import spearmanr\n",
    "sal_col = hr['salary'].values\n",
    "# print(sal_col)\n",
    "mon_col = np.float64(hr['average_montly_hours'].values)\n",
    "# print(mon_col)\n",
    "res, _ = spearmanr(sal_col, mon_col)\n",
    "res"
   ],
   "metadata": {
    "collapsed": false,
    "pycharm": {
     "name": "#%%\n"
    }
   }
  },
  {
   "cell_type": "code",
   "execution_count": 13,
   "outputs": [
    {
     "data": {
      "text/plain": "[<matplotlib.lines.Line2D at 0x1d697b09f40>]"
     },
     "execution_count": 13,
     "metadata": {},
     "output_type": "execute_result"
    },
    {
     "data": {
      "text/plain": "<Figure size 432x288 with 1 Axes>",
      "image/png": "[encoded data removed]"
     },
     "metadata": {
      "needs_background": "light"
     },
     "output_type": "display_data"
    }
   ],
   "source": [
    "plt.plot(hr[['salary','average_montly_hours']].groupby('salary').mean('average_montly_hours'))"
   ],
   "metadata": {
    "collapsed": false,
    "pycharm": {
     "name": "#%%\n"
    }
   }
  },
  {
   "cell_type": "code",
   "execution_count": null,
   "outputs": [],
   "source": [
    "# корреляция не подтвердилась"
   ],
   "metadata": {
    "collapsed": false,
    "pycharm": {
     "name": "#%%\n"
    }
   }
  },
  {
   "cell_type": "code",
   "execution_count": 41,
   "outputs": [
    {
     "data": {
      "text/plain": "                    average_montly_hours\ndepartment  salary                      \nIT          high              194.927711\n            low               201.382594\n            medium            204.295327\nRandD       high              199.745098\n            low               198.747253\n            medium            202.954301\naccounting  high              205.905405\n            low               199.899441\n            medium            201.465672\nhr          high              209.066667\n            low               202.456716\n            medium            193.863510\nmanagement  high              200.248889\n            low               200.744444\n            medium            202.653333\nmarketing   high              185.575000\n            low               204.487562\n            medium            196.869681\nproduct_mng high              194.632353\n            low               201.048780\n            medium            199.637076\nsales       high              201.178439\n            low               200.363030\n            medium            201.520316\nsupport     high              203.985816\n            low               198.900524\n            medium            202.535032\ntechnical   high              200.044776\n            low               203.064869\n            medium            202.248474",
      "text/html": "<div>\n<style scoped>\n    .dataframe tbody tr th:only-of-type {\n        vertical-align: middle;\n    }\n\n    .dataframe tbody tr th {\n        vertical-align: top;\n    }\n\n    .dataframe thead th {\n        text-align: right;\n    }\n</style>\n<table border=\"1\" class=\"dataframe\">\n  <thead>\n    <tr style=\"text-align: right;\">\n      <th></th>\n      <th></th>\n      <th>average_montly_hours</th>\n    </tr>\n    <tr>\n      <th>department</th>\n      <th>salary</th>\n      <th></th>\n    </tr>\n  </thead>\n  <tbody>\n    <tr>\n      <th rowspan=\"3\" valign=\"top\">IT</th>\n      <th>high</th>\n      <td>194.927711</td>\n    </tr>\n    <tr>\n      <th>low</th>\n      <td>201.382594</td>\n    </tr>\n    <tr>\n      <th>medium</th>\n      <td>204.295327</td>\n    </tr>\n    <tr>\n      <th rowspan=\"3\" valign=\"top\">RandD</th>\n      <th>high</th>\n      <td>199.745098</td>\n    </tr>\n    <tr>\n      <th>low</th>\n      <td>198.747253</td>\n    </tr>\n    <tr>\n      <th>medium</th>\n      <td>202.954301</td>\n    </tr>\n    <tr>\n      <th rowspan=\"3\" valign=\"top\">accounting</th>\n      <th>high</th>\n      <td>205.905405</td>\n    </tr>\n    <tr>\n      <th>low</th>\n      <td>199.899441</td>\n    </tr>\n    <tr>\n      <th>medium</th>\n      <td>201.465672</td>\n    </tr>\n    <tr>\n      <th rowspan=\"3\" valign=\"top\">hr</th>\n      <th>high</th>\n      <td>209.066667</td>\n    </tr>\n    <tr>\n      <th>low</th>\n      <td>202.456716</td>\n    </tr>\n    <tr>\n      <th>medium</th>\n      <td>193.863510</td>\n    </tr>\n    <tr>\n      <th rowspan=\"3\" valign=\"top\">management</th>\n      <th>high</th>\n      <td>200.248889</td>\n    </tr>\n    <tr>\n      <th>low</th>\n      <td>200.744444</td>\n    </tr>\n    <tr>\n      <th>medium</th>\n      <td>202.653333</td>\n    </tr>\n    <tr>\n      <th rowspan=\"3\" valign=\"top\">marketing</th>\n      <th>high</th>\n      <td>185.575000</td>\n    </tr>\n    <tr>\n      <th>low</th>\n      <td>204.487562</td>\n    </tr>\n    <tr>\n      <th>medium</th>\n      <td>196.869681</td>\n    </tr>\n    <tr>\n      <th rowspan=\"3\" valign=\"top\">product_mng</th>\n      <th>high</th>\n      <td>194.632353</td>\n    </tr>\n    <tr>\n      <th>low</th>\n      <td>201.048780</td>\n    </tr>\n    <tr>\n      <th>medium</th>\n      <td>199.637076</td>\n    </tr>\n    <tr>\n      <th rowspan=\"3\" valign=\"top\">sales</th>\n      <th>high</th>\n      <td>201.178439</td>\n    </tr>\n    <tr>\n      <th>low</th>\n      <td>200.363030</td>\n    </tr>\n    <tr>\n      <th>medium</th>\n      <td>201.520316</td>\n    </tr>\n    <tr>\n      <th rowspan=\"3\" valign=\"top\">support</th>\n      <th>high</th>\n      <td>203.985816</td>\n    </tr>\n    <tr>\n      <th>low</th>\n      <td>198.900524</td>\n    </tr>\n    <tr>\n      <th>medium</th>\n      <td>202.535032</td>\n    </tr>\n    <tr>\n      <th rowspan=\"3\" valign=\"top\">technical</th>\n      <th>high</th>\n      <td>200.044776</td>\n    </tr>\n    <tr>\n      <th>low</th>\n      <td>203.064869</td>\n    </tr>\n    <tr>\n      <th>medium</th>\n      <td>202.248474</td>\n    </tr>\n  </tbody>\n</table>\n</div>"
     },
     "execution_count": 41,
     "metadata": {},
     "output_type": "execute_result"
    }
   ],
   "source": [
    "hr[['salary','department','average_montly_hours']].groupby(['department', 'salary']).mean('average_montly_hours')"
   ],
   "metadata": {
    "collapsed": false,
    "pycharm": {
     "name": "#%%\n"
    }
   }
  },
  {
   "cell_type": "code",
   "execution_count": 16,
   "outputs": [
    {
     "data": {
      "text/plain": "      satisfaction_level\nleft                    \n0               0.666810\n1               0.440098",
      "text/html": "<div>\n<style scoped>\n    .dataframe tbody tr th:only-of-type {\n        vertical-align: middle;\n    }\n\n    .dataframe tbody tr th {\n        vertical-align: top;\n    }\n\n    .dataframe thead th {\n        text-align: right;\n    }\n</style>\n<table border=\"1\" class=\"dataframe\">\n  <thead>\n    <tr style=\"text-align: right;\">\n      <th></th>\n      <th>satisfaction_level</th>\n    </tr>\n    <tr>\n      <th>left</th>\n      <th></th>\n    </tr>\n  </thead>\n  <tbody>\n    <tr>\n      <th>0</th>\n      <td>0.666810</td>\n    </tr>\n    <tr>\n      <th>1</th>\n      <td>0.440098</td>\n    </tr>\n  </tbody>\n</table>\n</div>"
     },
     "execution_count": 16,
     "metadata": {},
     "output_type": "execute_result"
    }
   ],
   "source": [
    "'''Рассчитать следующие показатели среди уволившихся и не уволившихся сотрудников (по отдельности): 10\n",
    "● Доля сотрудников с повышением за последние 5 лет\n",
    "● Средняя степень удовлетворенности\n",
    "● Среднее количество проектов'''\n",
    "\n",
    "# Средняя степень удовлетворенности\n",
    "hr[['left','satisfaction_level']].groupby('left').mean('satisfaction_level')"
   ],
   "metadata": {
    "collapsed": false,
    "pycharm": {
     "name": "#%%\n"
    }
   }
  },
  {
   "cell_type": "code",
   "execution_count": 59,
   "outputs": [
    {
     "data": {
      "text/plain": "      number_project\nleft                \n0           3.786664\n1           3.855503",
      "text/html": "<div>\n<style scoped>\n    .dataframe tbody tr th:only-of-type {\n        vertical-align: middle;\n    }\n\n    .dataframe tbody tr th {\n        vertical-align: top;\n    }\n\n    .dataframe thead th {\n        text-align: right;\n    }\n</style>\n<table border=\"1\" class=\"dataframe\">\n  <thead>\n    <tr style=\"text-align: right;\">\n      <th></th>\n      <th>number_project</th>\n    </tr>\n    <tr>\n      <th>left</th>\n      <th></th>\n    </tr>\n  </thead>\n  <tbody>\n    <tr>\n      <th>0</th>\n      <td>3.786664</td>\n    </tr>\n    <tr>\n      <th>1</th>\n      <td>3.855503</td>\n    </tr>\n  </tbody>\n</table>\n</div>"
     },
     "execution_count": 59,
     "metadata": {},
     "output_type": "execute_result"
    }
   ],
   "source": [
    "# Среднее количество проектов\n",
    "hr[['left','number_project']].groupby('left').mean('number_project')"
   ],
   "metadata": {
    "collapsed": false,
    "pycharm": {
     "name": "#%%\n"
    }
   }
  },
  {
   "cell_type": "code",
   "execution_count": 35,
   "outputs": [
    {
     "data": {
      "text/plain": "left\n0    0.761917\n1    0.238083\ndtype: float64"
     },
     "execution_count": 35,
     "metadata": {},
     "output_type": "execute_result"
    }
   ],
   "source": [
    "# Доля сотрудников с повышением за последние 5 лет\n",
    "# hr[['promotion_last_5years', 'left']].groupby('left').size()\n",
    "hr[['promotion_last_5years', 'left']].groupby('left').size()/hr['promotion_last_5years'].count()"
   ],
   "metadata": {
    "collapsed": false,
    "pycharm": {
     "name": "#%%\n"
    }
   }
  }
 ],
 "metadata": {
  "kernelspec": {
   "display_name": "Python 3",
   "language": "python",
   "name": "python3"
  },
  "language_info": {
   "codemirror_mode": {
    "name": "ipython",
    "version": 2
   },
   "file_extension": ".py",
   "mimetype": "text/x-python",
   "name": "python",
   "nbconvert_exporter": "python",
   "pygments_lexer": "ipython2",
   "version": "2.7.6"
  }
 },
 "nbformat": 4,
 "nbformat_minor": 0
}