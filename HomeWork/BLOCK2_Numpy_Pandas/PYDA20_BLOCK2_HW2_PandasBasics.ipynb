{
 "cells": [
  {
   "cell_type": "raw",
   "metadata": {
    "collapsed": true,
    "pycharm": {
     "name": "#%% raw\n"
    }
   },
   "source": [
    "Задание 1\n",
    "Скачайте с сайта https://grouplens.org/datasets/movielens/ датасет любого размера. Определите какому фильму было выставлено больше всего оценок 5.0."
   ]
  },
  {
   "cell_type": "code",
   "execution_count": 3,
   "outputs": [
    {
     "data": {
      "text/plain": "Shawshank Redemption, The (1994)    39553\nName: title, dtype: int64"
     },
     "execution_count": 3,
     "metadata": {},
     "output_type": "execute_result"
    }
   ],
   "source": [
    "import pandas as pd\n",
    "ratings = pd.read_csv('ml-25m/ratings.csv')\n",
    "films = pd.read_csv('ml-25m/movies.csv')\n",
    "#ratings.head()\n",
    "ratings = ratings[ (ratings.rating==5.0) ]\n",
    "film_ratings = ratings.merge(films, on='movieId', how='left')\n",
    "#film_ratings.head()\n",
    "film_ratings['title'].value_counts().head(1)"
   ],
   "metadata": {
    "collapsed": false,
    "pycharm": {
     "name": "#%%\n"
    }
   }
  },
  {
   "cell_type": "raw",
   "source": [
    "Задание 2\n",
    "По данным файла power.csv посчитайте суммарное потребление стран Прибалтики (Латвия, Литва и Эстония) категорий 4, 12 и 21 за период с 2005 по 2010 года. Не учитывайте в расчетах отрицательные значения quantity."
   ],
   "metadata": {
    "collapsed": false,
    "pycharm": {
     "name": "#%% raw\n"
    }
   }
  },
  {
   "cell_type": "code",
   "execution_count": 37,
   "outputs": [
    {
     "data": {
      "text/plain": "118111115.66603443"
     },
     "execution_count": 37,
     "metadata": {},
     "output_type": "execute_result"
    }
   ],
   "source": [
    "data = pd.read_csv('power.csv')\n",
    "#data.head()\n",
    "#data.country.unique()\n",
    "data = data[ (data['country']=='Latvia') | (data['country']=='Lithuania')  | (data['country']=='Estonia') ]\n",
    "data = data[ (data.quantity>=0) ]\n",
    "sum(data.quantity)"
   ],
   "metadata": {
    "collapsed": false,
    "pycharm": {
     "name": "#%%\n"
    }
   }
  },
  {
   "cell_type": "raw",
   "source": [
    "Задание 3\n",
    "Выберите страницу любого сайта с табличными данными. Импортируйте таблицы в pandas dataframe.\n",
    "Примеры страниц (необязательно брать именно эти):\n",
    "https://fortrader.org/quotes\n",
    "https://www.finanz.ru/valyuty/v-realnom-vremeni"
   ],
   "metadata": {
    "collapsed": false,
    "pycharm": {
     "name": "#%% raw\n"
    }
   }
  },
  {
   "cell_type": "code",
   "execution_count": 47,
   "outputs": [
    {
     "name": "stdout",
     "output_type": "stream",
     "text": [
      "<class 'pandas.core.frame.DataFrame'>\n",
      "RangeIndex: 6 entries, 0 to 5\n",
      "Data columns (total 6 columns):\n",
      " #   Column    Non-Null Count  Dtype \n",
      "---  ------    --------------  ----- \n",
      " 0   ISIN      6 non-null      object\n",
      " 1   name      6 non-null      object\n",
      " 2   issuer    6 non-null      object\n",
      " 3   curr      6 non-null      object\n",
      " 4   price     6 non-null      int64 \n",
      " 5   discount  6 non-null      int64 \n",
      "dtypes: int64(2), object(4)\n",
      "memory usage: 416.0+ bytes\n"
     ]
    },
    {
     "data": {
      "text/plain": "           ISIN                             name                     issuer  \\\n0  XS0831571434          ЕАБР-22 (LPN 3, 4,767%)  Евразийский банк развития   \n1  XS0955232854           РСХБ-18 (LPN 14, 5,1%)          RSHB Capital S.A.   \n2  XS0972645112              ЕАБР-20 (LPN 5, 5%)  Евразийский банк развития   \n3  XS1038646078    Газпром-21 (LPN 35, EUR-3,6%)           Gaz Capital S.A.   \n4  XS1040726587  Газпромбанк -19 (LPN 16, 4,96%)   GPB Eurobond Finance PLC   \n\n  curr  price  discount  \n0  USD      0       125  \n1  USD      0       125  \n2  USD      0       125  \n3  EUR      0       100  \n4  USD      0       125  ",
      "text/html": "<div>\n<style scoped>\n    .dataframe tbody tr th:only-of-type {\n        vertical-align: middle;\n    }\n\n    .dataframe tbody tr th {\n        vertical-align: top;\n    }\n\n    .dataframe thead th {\n        text-align: right;\n    }\n</style>\n<table border=\"1\" class=\"dataframe\">\n  <thead>\n    <tr style=\"text-align: right;\">\n      <th></th>\n      <th>ISIN</th>\n      <th>name</th>\n      <th>issuer</th>\n      <th>curr</th>\n      <th>price</th>\n      <th>discount</th>\n    </tr>\n  </thead>\n  <tbody>\n    <tr>\n      <th>0</th>\n      <td>XS0831571434</td>\n      <td>ЕАБР-22 (LPN 3, 4,767%)</td>\n      <td>Евразийский банк развития</td>\n      <td>USD</td>\n      <td>0</td>\n      <td>125</td>\n    </tr>\n    <tr>\n      <th>1</th>\n      <td>XS0955232854</td>\n      <td>РСХБ-18 (LPN 14, 5,1%)</td>\n      <td>RSHB Capital S.A.</td>\n      <td>USD</td>\n      <td>0</td>\n      <td>125</td>\n    </tr>\n    <tr>\n      <th>2</th>\n      <td>XS0972645112</td>\n      <td>ЕАБР-20 (LPN 5, 5%)</td>\n      <td>Евразийский банк развития</td>\n      <td>USD</td>\n      <td>0</td>\n      <td>125</td>\n    </tr>\n    <tr>\n      <th>3</th>\n      <td>XS1038646078</td>\n      <td>Газпром-21 (LPN 35, EUR-3,6%)</td>\n      <td>Gaz Capital S.A.</td>\n      <td>EUR</td>\n      <td>0</td>\n      <td>100</td>\n    </tr>\n    <tr>\n      <th>4</th>\n      <td>XS1040726587</td>\n      <td>Газпромбанк -19 (LPN 16, 4,96%)</td>\n      <td>GPB Eurobond Finance PLC</td>\n      <td>USD</td>\n      <td>0</td>\n      <td>125</td>\n    </tr>\n  </tbody>\n</table>\n</div>"
     },
     "execution_count": 47,
     "metadata": {},
     "output_type": "execute_result"
    }
   ],
   "source": [
    "repo = pd.read_html('https://cbr.ru/hd_base/infobeyondmicexrepo/')[0]\n",
    "repo = repo.rename(columns = {'Краткое наименование ценной бумаги': 'name', 'Формальный эмитент': 'issuer', 'Валюта': 'curr', 'Цена,% от номинала':'price', 'Начальное значение дисконта, %':'discount'})\n",
    "repo.info()\n",
    "repo.head()"
   ],
   "metadata": {
    "collapsed": false,
    "pycharm": {
     "name": "#%%\n"
    }
   }
  }
 ],
 "metadata": {
  "kernelspec": {
   "display_name": "Python 3",
   "language": "python",
   "name": "python3"
  },
  "language_info": {
   "codemirror_mode": {
    "name": "ipython",
    "version": 2
   },
   "file_extension": ".py",
   "mimetype": "text/x-python",
   "name": "python",
   "nbconvert_exporter": "python",
   "pygments_lexer": "ipython2",
   "version": "2.7.6"
  }
 },
 "nbformat": 4,
 "nbformat_minor": 0
}