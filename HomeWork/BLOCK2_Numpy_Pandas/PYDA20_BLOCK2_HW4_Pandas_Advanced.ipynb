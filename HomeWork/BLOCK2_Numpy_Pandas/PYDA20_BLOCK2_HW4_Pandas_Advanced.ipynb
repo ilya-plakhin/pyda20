{
 "cells": [
  {
   "cell_type": "raw",
   "metadata": {
    "collapsed": true,
    "pycharm": {
     "name": "#%% raw\n"
    }
   },
   "source": [
    "Задание 1\n",
    "\n",
    "Для датафрейма log из материалов занятия создайте столбец source_type по следующим правилам:\n",
    "\n",
    "- если источник traffic_source равен yandex или google, то в source_type ставится organic\n",
    "- для источников paid и email из России - ставим ad\n",
    "- для источников paid и email не из России - ставим other\n",
    "- все остальные варианты берем из traffic_source без изменений"
   ]
  },
  {
   "cell_type": "code",
   "execution_count": 35,
   "outputs": [],
   "source": [
    "import pandas as pd\n",
    "import numpy as np"
   ],
   "metadata": {
    "collapsed": false,
    "pycharm": {
     "name": "#%%\n"
    }
   }
  },
  {
   "cell_type": "code",
   "execution_count": 3,
   "outputs": [
    {
     "data": {
      "text/plain": "        timestamp    visit_id                                 url   region  \\\n6      1549980742  b0f66adc83  https://host.ru/b8b58337d272ee7b15   Russia   \n12     1549980789  15ec7bf0b5  https://host.ru/8e88d4703848cc0ec4   Russia   \n15     1549980797  5322fecfc9  https://host.ru/4adc8a29b212051b04  Belarus   \n17     1549980807  0a88111852  https://host.ru/2fcb223266880ccf57  Ukraine   \n26     1549980852  659d36ca56  https://host.ru/4adc8a29b212051b04   Russia   \n...           ...         ...                                 ...      ...   \n18917  1550094207  fe72854d1a  https://host.ru/39fa884393666d45fc  Belarus   \n18927  1550094245  1e0d086733  https://host.ru/c2382eb3d6afc8d0f3  Ukraine   \n18933  1550094288  57e5ba8560  https://host.ru/c2382eb3d6afc8d0f3  Belarus   \n18934  1550094296  6f9389ec1b  https://host.ru/f1eb4601740d627ab0   Russia   \n18936  1550094314  79530b9a67  https://host.ru/6fda01ec57f23abc9e   Russia   \n\n          user_id traffic_source source_type  \n6      13fc55e781           paid          ad  \n12     6d1d81f7f8           paid          ad  \n15     9a45d98867           paid       other  \n17     a2ba8fa3db           paid       other  \n26     c4bd1ae3af           paid          ad  \n...           ...            ...         ...  \n18917  a8ad1b60af           paid       other  \n18927  10c296a6a4           paid       other  \n18933  98b19810d0           paid       other  \n18934  32ebb20c13           paid          ad  \n18936  e154b06121           paid          ad  \n\n[2643 rows x 7 columns]",
      "text/html": "<div>\n<style scoped>\n    .dataframe tbody tr th:only-of-type {\n        vertical-align: middle;\n    }\n\n    .dataframe tbody tr th {\n        vertical-align: top;\n    }\n\n    .dataframe thead th {\n        text-align: right;\n    }\n</style>\n<table border=\"1\" class=\"dataframe\">\n  <thead>\n    <tr style=\"text-align: right;\">\n      <th></th>\n      <th>timestamp</th>\n      <th>visit_id</th>\n      <th>url</th>\n      <th>region</th>\n      <th>user_id</th>\n      <th>traffic_source</th>\n      <th>source_type</th>\n    </tr>\n  </thead>\n  <tbody>\n    <tr>\n      <th>6</th>\n      <td>1549980742</td>\n      <td>b0f66adc83</td>\n      <td>https://host.ru/b8b58337d272ee7b15</td>\n      <td>Russia</td>\n      <td>13fc55e781</td>\n      <td>paid</td>\n      <td>ad</td>\n    </tr>\n    <tr>\n      <th>12</th>\n      <td>1549980789</td>\n      <td>15ec7bf0b5</td>\n      <td>https://host.ru/8e88d4703848cc0ec4</td>\n      <td>Russia</td>\n      <td>6d1d81f7f8</td>\n      <td>paid</td>\n      <td>ad</td>\n    </tr>\n    <tr>\n      <th>15</th>\n      <td>1549980797</td>\n      <td>5322fecfc9</td>\n      <td>https://host.ru/4adc8a29b212051b04</td>\n      <td>Belarus</td>\n      <td>9a45d98867</td>\n      <td>paid</td>\n      <td>other</td>\n    </tr>\n    <tr>\n      <th>17</th>\n      <td>1549980807</td>\n      <td>0a88111852</td>\n      <td>https://host.ru/2fcb223266880ccf57</td>\n      <td>Ukraine</td>\n      <td>a2ba8fa3db</td>\n      <td>paid</td>\n      <td>other</td>\n    </tr>\n    <tr>\n      <th>26</th>\n      <td>1549980852</td>\n      <td>659d36ca56</td>\n      <td>https://host.ru/4adc8a29b212051b04</td>\n      <td>Russia</td>\n      <td>c4bd1ae3af</td>\n      <td>paid</td>\n      <td>ad</td>\n    </tr>\n    <tr>\n      <th>...</th>\n      <td>...</td>\n      <td>...</td>\n      <td>...</td>\n      <td>...</td>\n      <td>...</td>\n      <td>...</td>\n      <td>...</td>\n    </tr>\n    <tr>\n      <th>18917</th>\n      <td>1550094207</td>\n      <td>fe72854d1a</td>\n      <td>https://host.ru/39fa884393666d45fc</td>\n      <td>Belarus</td>\n      <td>a8ad1b60af</td>\n      <td>paid</td>\n      <td>other</td>\n    </tr>\n    <tr>\n      <th>18927</th>\n      <td>1550094245</td>\n      <td>1e0d086733</td>\n      <td>https://host.ru/c2382eb3d6afc8d0f3</td>\n      <td>Ukraine</td>\n      <td>10c296a6a4</td>\n      <td>paid</td>\n      <td>other</td>\n    </tr>\n    <tr>\n      <th>18933</th>\n      <td>1550094288</td>\n      <td>57e5ba8560</td>\n      <td>https://host.ru/c2382eb3d6afc8d0f3</td>\n      <td>Belarus</td>\n      <td>98b19810d0</td>\n      <td>paid</td>\n      <td>other</td>\n    </tr>\n    <tr>\n      <th>18934</th>\n      <td>1550094296</td>\n      <td>6f9389ec1b</td>\n      <td>https://host.ru/f1eb4601740d627ab0</td>\n      <td>Russia</td>\n      <td>32ebb20c13</td>\n      <td>paid</td>\n      <td>ad</td>\n    </tr>\n    <tr>\n      <th>18936</th>\n      <td>1550094314</td>\n      <td>79530b9a67</td>\n      <td>https://host.ru/6fda01ec57f23abc9e</td>\n      <td>Russia</td>\n      <td>e154b06121</td>\n      <td>paid</td>\n      <td>ad</td>\n    </tr>\n  </tbody>\n</table>\n<p>2643 rows × 7 columns</p>\n</div>"
     },
     "execution_count": 3,
     "metadata": {},
     "output_type": "execute_result"
    }
   ],
   "source": [
    "log = pd.read_csv('dops/visit_log.csv', sep=';')\n",
    "\n",
    "\n",
    "def source_type(row):\n",
    "    if row['traffic_source'] in {'yandex', 'google'}:\n",
    "        return 'organic'\n",
    "    if row['traffic_source'] in {'paid', 'email'}:\n",
    "        if row['region'] == 'Russia':\n",
    "            return 'ad'\n",
    "        else:\n",
    "            return 'other'\n",
    "    return row['traffic_source']\n",
    "\n",
    "\n",
    "log['source_type'] = log.apply(source_type, axis=1)\n",
    "log[log['traffic_source'] == 'paid']"
   ],
   "metadata": {
    "collapsed": false,
    "pycharm": {
     "name": "#%%\n"
    }
   }
  },
  {
   "cell_type": "raw",
   "source": [
    "Задание 2\n",
    "\n",
    "В файле URLs.txt содержатся url страниц новостного сайта. Вам необходимо отфильтровать его по адресам страниц с текстами новостей. Известно, что шаблон страницы новостей имеет внутри url следующую конструкцию: /, затем 8 цифр, затем дефис. Выполните следующие действия:\n",
    "\n",
    "Прочитайте содержимое файла с датафрейм\n",
    "Отфильтруйте страницы с текстом новостей, используя метод str.contains и регулярное выражение в соответствии с заданным шаблоном"
   ],
   "metadata": {
    "collapsed": false,
    "pycharm": {
     "name": "#%% raw\n"
    }
   }
  },
  {
   "cell_type": "code",
   "execution_count": 18,
   "outputs": [
    {
     "data": {
      "text/plain": "                                                 url\n3  /politics/36188461-s-marta-zhizn-rossiyan-susc...\n4  /world/36007585-tramp-pridumal-kak-reshit-ukra...\n5  /science/36157853-nasa-sobiraet-ekstrennuyu-pr...\n6  /video/36001498-poyavilis-pervye-podrobnosti-g...\n7  /world/36007585-tramp-pridumal-kak-reshit-ukra...",
      "text/html": "<div>\n<style scoped>\n    .dataframe tbody tr th:only-of-type {\n        vertical-align: middle;\n    }\n\n    .dataframe tbody tr th {\n        vertical-align: top;\n    }\n\n    .dataframe thead th {\n        text-align: right;\n    }\n</style>\n<table border=\"1\" class=\"dataframe\">\n  <thead>\n    <tr style=\"text-align: right;\">\n      <th></th>\n      <th>url</th>\n    </tr>\n  </thead>\n  <tbody>\n    <tr>\n      <th>3</th>\n      <td>/politics/36188461-s-marta-zhizn-rossiyan-susc...</td>\n    </tr>\n    <tr>\n      <th>4</th>\n      <td>/world/36007585-tramp-pridumal-kak-reshit-ukra...</td>\n    </tr>\n    <tr>\n      <th>5</th>\n      <td>/science/36157853-nasa-sobiraet-ekstrennuyu-pr...</td>\n    </tr>\n    <tr>\n      <th>6</th>\n      <td>/video/36001498-poyavilis-pervye-podrobnosti-g...</td>\n    </tr>\n    <tr>\n      <th>7</th>\n      <td>/world/36007585-tramp-pridumal-kak-reshit-ukra...</td>\n    </tr>\n  </tbody>\n</table>\n</div>"
     },
     "execution_count": 18,
     "metadata": {},
     "output_type": "execute_result"
    }
   ],
   "source": [
    "log = pd.read_csv('dops/URLs.txt')\n",
    "log.head()\n",
    "log[log['url'].str.contains('/[0-9]{8}-', regex=True)].head()"
   ],
   "metadata": {
    "collapsed": false,
    "pycharm": {
     "name": "#%%\n"
    }
   }
  },
  {
   "cell_type": "raw",
   "source": [
    "Задание 3\n",
    "\n",
    "Используйте файл с оценками фильмов ml-latest-small/ratings.csv. Посчитайте среднее время жизни пользователей, которые выставили более 100 оценок. Под временем жизни понимается разница между максимальным и минимальным значением столбца timestamp для данного значения userId."
   ],
   "metadata": {
    "collapsed": false,
    "pycharm": {
     "name": "#%% raw\n"
    }
   }
  },
  {
   "cell_type": "code",
   "execution_count": 59,
   "outputs": [
    {
     "data": {
      "text/plain": "39331748.56653992"
     },
     "execution_count": 59,
     "metadata": {},
     "output_type": "execute_result"
    }
   ],
   "source": [
    "log = pd.read_csv('dops/ml-latest-small/ratings.csv', sep=',')\n",
    "#log.head()\n",
    "log = log.groupby(['userId']).agg({'timestamp' : lambda x: x.max() - x.min(), 'rating' : np.count_nonzero})\n",
    "log['timestamp'].loc[log.rating >= 100].mean()\n"
   ],
   "metadata": {
    "collapsed": false,
    "pycharm": {
     "name": "#%%\n"
    }
   }
  },
  {
   "cell_type": "raw",
   "source": [
    "Задание 4\n",
    "\n",
    "Дана статистика услуг перевозок клиентов компании по типам (см. файл “Python_13_join.ipynb” в разделе Материалы для лекции «Продвинутый pandas» ---- Ноутбуки к лекции «Продвинутый pandas»).\n",
    "Необходимо сформировать две таблицы:\n",
    "таблицу с тремя типами выручки для каждого client_id без указания адреса клиента\n",
    "аналогичную таблицу по типам выручки с указанием адреса клиента\n",
    "Обратите внимание, что в процессе объединения таблиц данные не должны теряться."
   ],
   "metadata": {
    "collapsed": false,
    "pycharm": {
     "name": "#%% raw\n"
    }
   }
  },
  {
   "cell_type": "code",
   "execution_count": 60,
   "outputs": [],
   "source": [
    "rzd = pd.DataFrame(\n",
    "    {\n",
    "        'client_id': [111, 112, 113, 114, 115],\n",
    "        'rzd_revenue': [1093, 2810, 10283, 5774, 981]\n",
    "    }\n",
    ")\n",
    "#rzd\n",
    "auto = pd.DataFrame(\n",
    "    {\n",
    "        'client_id': [113, 114, 115, 116, 117],\n",
    "        'auto_revenue': [57483, 83, 912, 4834, 98]\n",
    "    }\n",
    ")\n",
    "#auto\n",
    "air = pd.DataFrame(\n",
    "    {\n",
    "        'client_id': [115, 116, 117, 118],\n",
    "        'air_revenue': [81, 4, 13, 173]\n",
    "    }\n",
    ")\n",
    "#air\n",
    "client_base = pd.DataFrame(\n",
    "    {\n",
    "        'client_id': [111, 112, 113, 114, 115, 116, 117, 118],\n",
    "        'address': ['Комсомольская 4', 'Энтузиастов 8а', 'Левобережная 1а', 'Мира 14', 'ЗЖБИиДК 1',\n",
    "                    'Строителей 18', 'Панфиловская 33', 'Мастеркова 4']\n",
    "    }\n",
    ")\n",
    "#client_base"
   ],
   "metadata": {
    "collapsed": false,
    "pycharm": {
     "name": "#%%\n"
    }
   }
  },
  {
   "cell_type": "code",
   "execution_count": 71,
   "outputs": [
    {
     "data": {
      "text/plain": "                           rzd_revenue  auto_revenue  air_revenue\nclient_id address                                                \n111       Комсомольская 4       1093.0           0.0          0.0\n112       Энтузиастов 8а        2810.0           0.0          0.0\n113       Левобережная 1а      10283.0       57483.0          0.0\n114       Мира 14               5774.0          83.0          0.0\n115       ЗЖБИиДК 1              981.0         912.0         81.0\n116       Строителей 18            0.0        4834.0          4.0\n117       Панфиловская 33          0.0          98.0         13.0\n118       Мастеркова 4             0.0           0.0        173.0",
      "text/html": "<div>\n<style scoped>\n    .dataframe tbody tr th:only-of-type {\n        vertical-align: middle;\n    }\n\n    .dataframe tbody tr th {\n        vertical-align: top;\n    }\n\n    .dataframe thead th {\n        text-align: right;\n    }\n</style>\n<table border=\"1\" class=\"dataframe\">\n  <thead>\n    <tr style=\"text-align: right;\">\n      <th></th>\n      <th></th>\n      <th>rzd_revenue</th>\n      <th>auto_revenue</th>\n      <th>air_revenue</th>\n    </tr>\n    <tr>\n      <th>client_id</th>\n      <th>address</th>\n      <th></th>\n      <th></th>\n      <th></th>\n    </tr>\n  </thead>\n  <tbody>\n    <tr>\n      <th>111</th>\n      <th>Комсомольская 4</th>\n      <td>1093.0</td>\n      <td>0.0</td>\n      <td>0.0</td>\n    </tr>\n    <tr>\n      <th>112</th>\n      <th>Энтузиастов 8а</th>\n      <td>2810.0</td>\n      <td>0.0</td>\n      <td>0.0</td>\n    </tr>\n    <tr>\n      <th>113</th>\n      <th>Левобережная 1а</th>\n      <td>10283.0</td>\n      <td>57483.0</td>\n      <td>0.0</td>\n    </tr>\n    <tr>\n      <th>114</th>\n      <th>Мира 14</th>\n      <td>5774.0</td>\n      <td>83.0</td>\n      <td>0.0</td>\n    </tr>\n    <tr>\n      <th>115</th>\n      <th>ЗЖБИиДК 1</th>\n      <td>981.0</td>\n      <td>912.0</td>\n      <td>81.0</td>\n    </tr>\n    <tr>\n      <th>116</th>\n      <th>Строителей 18</th>\n      <td>0.0</td>\n      <td>4834.0</td>\n      <td>4.0</td>\n    </tr>\n    <tr>\n      <th>117</th>\n      <th>Панфиловская 33</th>\n      <td>0.0</td>\n      <td>98.0</td>\n      <td>13.0</td>\n    </tr>\n    <tr>\n      <th>118</th>\n      <th>Мастеркова 4</th>\n      <td>0.0</td>\n      <td>0.0</td>\n      <td>173.0</td>\n    </tr>\n  </tbody>\n</table>\n</div>"
     },
     "execution_count": 71,
     "metadata": {},
     "output_type": "execute_result"
    }
   ],
   "source": [
    "revenue_base = pd.merge(client_base, rzd, how='left')\n",
    "revenue_base = pd.merge(revenue_base, auto, how='left')\n",
    "revenue_base = pd.merge(revenue_base, air, how='left')\n",
    "#revenue_base\n",
    "#revenue_base.groupby('client_id').sum()\n",
    "revenue_base.groupby(['client_id', 'address']).sum()"
   ],
   "metadata": {
    "collapsed": false,
    "pycharm": {
     "name": "#%%\n"
    }
   }
  }
 ],
 "metadata": {
  "kernelspec": {
   "display_name": "Python 3",
   "language": "python",
   "name": "python3"
  },
  "language_info": {
   "codemirror_mode": {
    "name": "ipython",
    "version": 2
   },
   "file_extension": ".py",
   "mimetype": "text/x-python",
   "name": "python",
   "nbconvert_exporter": "python",
   "pygments_lexer": "ipython2",
   "version": "2.7.6"
  }
 },
 "nbformat": 4,
 "nbformat_minor": 0
}