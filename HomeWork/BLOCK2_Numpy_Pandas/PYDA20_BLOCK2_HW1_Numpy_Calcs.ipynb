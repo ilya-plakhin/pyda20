{
 "cells": [
  {
   "cell_type": "raw",
   "metadata": {},
   "source": [
    "Задание 1\n",
    "Создайте numpy array с элементами от числа N до 0 (например, для N = 10 это будет array([9, 8, 7, 6, 5, 4, 3, 2, 1, 0]))."
   ]
  },
  {
   "cell_type": "code",
   "execution_count": 2,
   "metadata": {},
   "outputs": [
    {
     "name": "stdout",
     "output_type": "stream",
     "text": [
      "[11 10  9  8  7  6  5  4  3  2  1  0]\n"
     ]
    }
   ],
   "source": [
    "import numpy as np\n",
    "N = 11\n",
    "a = np.arange(start = N, stop = -1, step = -1)\n",
    "print(a)"
   ]
  },
  {
   "cell_type": "raw",
   "metadata": {},
   "source": [
    "Задание 2\n",
    "Создайте диагональную матрицу с элементами от N до 0. Посчитайте сумму ее значений на диагонали."
   ]
  },
  {
   "cell_type": "code",
   "execution_count": 3,
   "metadata": {},
   "outputs": [
    {
     "data": {
      "text/plain": "array([[9, 0, 0, 0, 0, 0, 0, 0, 0, 0],\n       [0, 8, 0, 0, 0, 0, 0, 0, 0, 0],\n       [0, 0, 7, 0, 0, 0, 0, 0, 0, 0],\n       [0, 0, 0, 6, 0, 0, 0, 0, 0, 0],\n       [0, 0, 0, 0, 5, 0, 0, 0, 0, 0],\n       [0, 0, 0, 0, 0, 4, 0, 0, 0, 0],\n       [0, 0, 0, 0, 0, 0, 3, 0, 0, 0],\n       [0, 0, 0, 0, 0, 0, 0, 2, 0, 0],\n       [0, 0, 0, 0, 0, 0, 0, 0, 1, 0],\n       [0, 0, 0, 0, 0, 0, 0, 0, 0, 0]])"
     },
     "execution_count": 3,
     "metadata": {},
     "output_type": "execute_result"
    }
   ],
   "source": [
    "N = 9\n",
    "np.diag(np.arange(start = N, stop = -1, step = -1))"
   ]
  },
  {
   "cell_type": "code",
   "execution_count": 16,
   "metadata": {},
   "outputs": [
    {
     "data": {
      "text/plain": [
       "45"
      ]
     },
     "execution_count": 16,
     "metadata": {},
     "output_type": "execute_result"
    }
   ],
   "source": [
    "N = 9\n",
    "np.sum(np.diag(np.diag(np.arange(start = N, stop = -1, step = -1))))"
   ]
  },
  {
   "cell_type": "raw",
   "metadata": {},
   "source": [
    "Задание 3\n",
    "Решите систему уравнений:\n",
    "4x + 2y + z = 4\n",
    "x + 3y = 12\n",
    "5y + 4z = -3"
   ]
  },
  {
   "cell_type": "code",
   "execution_count": 4,
   "metadata": {},
   "outputs": [
    {
     "data": {
      "text/plain": "array([ 0.46666667,  3.84444444, -5.55555556])"
     },
     "execution_count": 4,
     "metadata": {},
     "output_type": "execute_result"
    }
   ],
   "source": [
    "import numpy.linalg as la\n",
    "a = np.array( [ [4, 2, 1], [1, 3, 0], [0, 5, 4] ] )\n",
    "b = np.array( [4, 12, -3] )\n",
    "la.solve(a, b)"
   ]
  },
  {
   "cell_type": "raw",
   "metadata": {},
   "source": [
    "Задание 4\n",
    "Имеется матрица покупок в интернет-магазине. Столбец А - ID пользователя. Остальные столбцы - количество покупок категорий товаров этим пользователем\n",
    "\n",
    "users_stats = np.array(\n",
    "    [\n",
    "        [2, 1, 0, 0, 0, 0],\n",
    "        [1, 1, 2, 1, 0, 0],\n",
    "        [2, 0, 1, 0, 0, 0],\n",
    "        [1, 1, 2, 1, 0, 1],\n",
    "        [0, 0, 1, 2, 0, 0],\n",
    "        [0, 0, 0, 0, 0, 5],\n",
    "        [1, 0, 0, 0, 0, 0],\n",
    "        [0, 1, 1, 0, 0, 0],\n",
    "        [0, 0, 0, 1, 1, 3],\n",
    "        [1, 0, 0, 2, 1, 4]\n",
    "    ], \n",
    "    np.int32\n",
    ")\n",
    "\n",
    "На сайт заходит очередной посетитель, о покупках которого известно следующее:\n",
    "\n",
    "next_user_stats = np.array([0, 1, 2, 0, 0, 0])\n",
    "Найдите самого похожего пользователя. Т. е. посчитайте косинусное сходство между этим пользователем и всеми пользователями из массива user_stats"
   ]
  },
  {
   "cell_type": "code",
   "execution_count": 21,
   "metadata": {},
   "outputs": [
    {
     "name": "stdout",
     "output_type": "stream",
     "text": [
      "[0 1 2 0 0 0]\n",
      "\n",
      "[2 1 0 0 0 0]\n",
      "[0 1 2 0 0 0]\n",
      "0.19999999999999996\n",
      "[1 1 2 1 0 0]\n",
      "[0 1 2 0 0 0]\n",
      "0.8451542547285165\n",
      "[2 0 1 0 0 0]\n",
      "[0 1 2 0 0 0]\n",
      "0.3999999999999999\n",
      "[1 1 2 1 0 1]\n",
      "[0 1 2 0 0 0]\n",
      "0.7905694150420948\n",
      "[0 0 1 2 0 0]\n",
      "[0 1 2 0 0 0]\n",
      "0.3999999999999999\n",
      "[0 0 0 0 0 5]\n",
      "[0 1 2 0 0 0]\n",
      "0.0\n",
      "[1 0 0 0 0 0]\n",
      "[0 1 2 0 0 0]\n",
      "0.0\n",
      "[0 1 1 0 0 0]\n",
      "[0 1 2 0 0 0]\n",
      "0.9486832980505138\n",
      "[0 0 0 1 1 3]\n",
      "[0 1 2 0 0 0]\n",
      "0.0\n",
      "[1 0 0 2 1 4]\n",
      "[0 1 2 0 0 0]\n",
      "0.0\n",
      "[0.19999999999999996, 0.8451542547285165, 0.3999999999999999, 0.7905694150420948, 0.3999999999999999, 0.0, 0.0, 0.9486832980505138, 0.0, 0.0] 0.9486832980505138 [0 1 1 0 0 0]\n"
     ]
    }
   ],
   "source": [
    "users_stats = np.array(\n",
    "    [\n",
    "        [2, 1, 0, 0, 0, 0],\n",
    "        [1, 1, 2, 1, 0, 0],\n",
    "        [2, 0, 1, 0, 0, 0],\n",
    "        [1, 1, 2, 1, 0, 1],\n",
    "        [0, 0, 1, 2, 0, 0],\n",
    "        [0, 0, 0, 0, 0, 5],\n",
    "        [1, 0, 0, 0, 0, 0],\n",
    "        [0, 1, 1, 0, 0, 0],\n",
    "        [0, 0, 0, 1, 1, 3],\n",
    "        [1, 0, 0, 2, 1, 4]\n",
    "    ], \n",
    "    np.int32\n",
    ")\n",
    "next_user_stats = np.array([0, 1, 2, 0, 0, 0])\n",
    "\n",
    "def cosine( a, b ):\n",
    "    \"\"\"\n",
    "    Подсчет косинуса угла между векторами a, b по их координатам\n",
    "    \"\"\"\n",
    "    \n",
    "    # длины векторов\n",
    "    aLength = np.linalg.norm( a )\n",
    "    bLength = np.linalg.norm( b )\n",
    "    \n",
    "    return np.dot( a, b ) / ( aLength * bLength )\n",
    "\n",
    "print(next_user_stats)\n",
    "#print()\n",
    "\n",
    "users_cosines = []\n",
    "for row in users_stats:\n",
    "    #print(row)\n",
    "    #print(next_user_stats)\n",
    "    #print(cosine(row, next_user_stats))\n",
    "    users_cosines.append(cosine(row, next_user_stats))\n",
    "\n",
    "print(users_cosines, max(users_cosines), users_stats[users_cosines.index(max(users_cosines))])\n"
   ]
  }
 ],
 "metadata": {
  "kernelspec": {
   "display_name": "Python 3",
   "language": "python",
   "name": "python3"
  },
  "language_info": {
   "codemirror_mode": {
    "name": "ipython",
    "version": 3
   },
   "file_extension": ".py",
   "mimetype": "text/x-python",
   "name": "python",
   "nbconvert_exporter": "python",
   "pygments_lexer": "ipython3",
   "version": "3.8.5"
  }
 },
 "nbformat": 4,
 "nbformat_minor": 4
}