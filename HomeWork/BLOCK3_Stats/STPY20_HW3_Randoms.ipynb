{
 "cells": [
  {
   "cell_type": "markdown",
   "metadata": {
    "collapsed": true,
    "pycharm": {
     "name": "#%% md\n"
    }
   },
   "source": [
    "Смоделировать игру против лотерейного автомата типа “777”. Игрок платит 1 руб., после чего выпадает случайное целое число, равномерно распределенное от 0 до 999. При некоторых значениях числа игрок получает выигрыш.\n",
    "\n",
    "777: 200 руб.\n",
    "999: 100 руб.\n",
    "555: 50 руб.\n",
    "333: 15 руб.\n",
    "111: 10 руб.\n",
    "*77: 5 руб.\n",
    "**7: 3 руб.\n",
    "*00: 2 руб.\n",
    "**0: 1 руб.\n",
    "\n",
    "Вопросы:\n",
    "- Выгодна ли игра игроку?\n",
    "- Сколько в среднем приобретает или теряет игрок за одну игру?\n",
    "\n",
    "**Дополнительное задание повышенной сложности. **\n",
    "\n",
    "Теоретически рассчитать средний выигрыш (проигрыш) и сравнить с результатами моделирования\n",
    "– любая цифра"
   ]
  },
  {
   "cell_type": "code",
   "execution_count": 30,
   "outputs": [
    {
     "name": "stdout",
     "output_type": "stream",
     "text": [
      "fact:  -0.1993444 , model:  -0.397 delta to model:  -0.19765560000000001\n"
     ]
    }
   ],
   "source": [
    "import random as rnd\n",
    "\n",
    "def pay_n_get():\n",
    "    return rnd.randint(0,1000)\n",
    "\n",
    "def get_prize(num):\n",
    "    prize = 0\n",
    "    if num == 777:\n",
    "        prize += 200\n",
    "    elif num == 999:\n",
    "        prize += 100\n",
    "    elif num == 555:\n",
    "        prize += 50\n",
    "    elif num == 333:\n",
    "        prize += 15\n",
    "    elif num == 111:\n",
    "        prize += 10\n",
    "\n",
    "    elif num % 100 == 77:\n",
    "        prize += 5\n",
    "    elif num % 10 == 7:\n",
    "        prize += 3\n",
    "\n",
    "    elif num % 100 == 0:\n",
    "        prize += 2\n",
    "    elif num % 10 == 0:\n",
    "        prize += 1\n",
    "    return prize\n",
    "\n",
    "\n",
    "balance = 0\n",
    "cyc = 10000000\n",
    "approx = ((200 + 100 + 50 + 15 + 10) * (1/1000) # единичные вероятности\n",
    "          + (5) * (10/1000) +  # 77\n",
    "          + (3) * (100/1000)  # 7\n",
    "          + (2) * (9/1000)  # 00\n",
    "          + (1) * (100/1000) # 0\n",
    "          + (-1) * (1000/1000)) # плата за игру\n",
    "\n",
    "for i in range(cyc):\n",
    "    balance -= 1\n",
    "    n = pay_n_get()\n",
    "    b = get_prize(n)\n",
    "    # print(i, n, b)\n",
    "    balance += b\n",
    "\n",
    "print('fact: ', (balance/cyc), ', model: ', approx, 'delta to model: ', (approx - balance/cyc))"
   ],
   "metadata": {
    "collapsed": false,
    "pycharm": {
     "name": "#%%\n"
    }
   }
  },
  {
   "cell_type": "code",
   "execution_count": 32,
   "outputs": [
    {
     "name": "stdout",
     "output_type": "stream",
     "text": [
      "-0.15699999999999992\n"
     ]
    }
   ],
   "source": [
    "approx = ((200 + 100 + 50 + 15 + 10) * (1/1000) # единичные вероятности\n",
    "+ (5) * (10/1000) +  # 77\n",
    "+ (3) * (100/1000)  # 7\n",
    "+ (2) * (9/1000)  # 00\n",
    "+ (1) * (100/1000) # 0\n",
    "+ (-1) * (1000/1000)) # плата за игру\n",
    "print(approx)"
   ],
   "metadata": {
    "collapsed": false,
    "pycharm": {
     "name": "#%%\n"
    }
   }
  },
  {
   "cell_type": "markdown",
   "source": [
    "В среднем игрок теряет 20коп за игру - игра невыгодна.\n",
    "Расчетная величина потери - 15.7коп за игру."
   ],
   "metadata": {
    "collapsed": false
   }
  }
 ],
 "metadata": {
  "kernelspec": {
   "display_name": "Python 3",
   "language": "python",
   "name": "python3"
  },
  "language_info": {
   "codemirror_mode": {
    "name": "ipython",
    "version": 2
   },
   "file_extension": ".py",
   "mimetype": "text/x-python",
   "name": "python",
   "nbconvert_exporter": "python",
   "pygments_lexer": "ipython2",
   "version": "2.7.6"
  }
 },
 "nbformat": 4,
 "nbformat_minor": 0
}