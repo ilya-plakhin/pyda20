{
 "cells": [
  {
   "cell_type": "markdown",
   "metadata": {
    "collapsed": true,
    "pycharm": {
     "name": "#%% md\n"
    }
   },
   "source": [
    "Возьмите датасет Mortality and Water Hardness\n",
    "\n",
    "В этом датасете содержатся данные по средней годовой смертности на\n",
    "100000 населения и концентрации кальция в питьевой воде для 61\n",
    "большого города в Англии и Уэльсе. Города дополнительно поделены на\n",
    "северные и южные."
   ]
  },
  {
   "cell_type": "code",
   "execution_count": 1,
   "outputs": [
    {
     "data": {
      "text/plain": "    Unnamed: 0 location           town  mortality  hardness\n0            1    South           Bath       1247       105\n1            2    North     Birkenhead       1668        17\n2            3    South     Birmingham       1466         5\n3            4    North      Blackburn       1800        14\n4            5    North      Blackpool       1609        18\n..         ...      ...            ...        ...       ...\n56          57    South        Walsall       1527        60\n57          58    South  West Bromwich       1627        53\n58          59    South       West Ham       1486       122\n59          60    South  Wolverhampton       1485        81\n60          61    North           York       1378        71\n\n[61 rows x 5 columns]",
      "text/html": "<div>\n<style scoped>\n    .dataframe tbody tr th:only-of-type {\n        vertical-align: middle;\n    }\n\n    .dataframe tbody tr th {\n        vertical-align: top;\n    }\n\n    .dataframe thead th {\n        text-align: right;\n    }\n</style>\n<table border=\"1\" class=\"dataframe\">\n  <thead>\n    <tr style=\"text-align: right;\">\n      <th></th>\n      <th>Unnamed: 0</th>\n      <th>location</th>\n      <th>town</th>\n      <th>mortality</th>\n      <th>hardness</th>\n    </tr>\n  </thead>\n  <tbody>\n    <tr>\n      <th>0</th>\n      <td>1</td>\n      <td>South</td>\n      <td>Bath</td>\n      <td>1247</td>\n      <td>105</td>\n    </tr>\n    <tr>\n      <th>1</th>\n      <td>2</td>\n      <td>North</td>\n      <td>Birkenhead</td>\n      <td>1668</td>\n      <td>17</td>\n    </tr>\n    <tr>\n      <th>2</th>\n      <td>3</td>\n      <td>South</td>\n      <td>Birmingham</td>\n      <td>1466</td>\n      <td>5</td>\n    </tr>\n    <tr>\n      <th>3</th>\n      <td>4</td>\n      <td>North</td>\n      <td>Blackburn</td>\n      <td>1800</td>\n      <td>14</td>\n    </tr>\n    <tr>\n      <th>4</th>\n      <td>5</td>\n      <td>North</td>\n      <td>Blackpool</td>\n      <td>1609</td>\n      <td>18</td>\n    </tr>\n    <tr>\n      <th>...</th>\n      <td>...</td>\n      <td>...</td>\n      <td>...</td>\n      <td>...</td>\n      <td>...</td>\n    </tr>\n    <tr>\n      <th>56</th>\n      <td>57</td>\n      <td>South</td>\n      <td>Walsall</td>\n      <td>1527</td>\n      <td>60</td>\n    </tr>\n    <tr>\n      <th>57</th>\n      <td>58</td>\n      <td>South</td>\n      <td>West Bromwich</td>\n      <td>1627</td>\n      <td>53</td>\n    </tr>\n    <tr>\n      <th>58</th>\n      <td>59</td>\n      <td>South</td>\n      <td>West Ham</td>\n      <td>1486</td>\n      <td>122</td>\n    </tr>\n    <tr>\n      <th>59</th>\n      <td>60</td>\n      <td>South</td>\n      <td>Wolverhampton</td>\n      <td>1485</td>\n      <td>81</td>\n    </tr>\n    <tr>\n      <th>60</th>\n      <td>61</td>\n      <td>North</td>\n      <td>York</td>\n      <td>1378</td>\n      <td>71</td>\n    </tr>\n  </tbody>\n</table>\n<p>61 rows × 5 columns</p>\n</div>"
     },
     "execution_count": 1,
     "metadata": {},
     "output_type": "execute_result"
    }
   ],
   "source": [
    "import pandas as pd\n",
    "water_data = pd.read_csv('water.csv')\n",
    "# water_data.head()\n",
    "water_data"
   ],
   "metadata": {
    "collapsed": false,
    "pycharm": {
     "name": "#%%\n"
    }
   }
  },
  {
   "cell_type": "markdown",
   "source": [
    "Задание 1.\n",
    "Ответить на вопрос: есть ли связь между жёсткостью воды и средней годовой смертностью?\n",
    "\n",
    "- Построить точечный график\n",
    "- Рассчитать коэффициенты корреляции Пирсона и Спирмена\n",
    "- Построить модель линейной регрессии\n",
    "- Рассчитать коэффициент детерминации\n",
    "- Вывести график остатков"
   ],
   "metadata": {
    "collapsed": false,
    "pycharm": {
     "name": "#%% md\n"
    }
   }
  },
  {
   "cell_type": "code",
   "execution_count": 5,
   "outputs": [
    {
     "data": {
      "text/plain": "<matplotlib.collections.PathCollection at 0x1ca384a4220>"
     },
     "execution_count": 5,
     "metadata": {},
     "output_type": "execute_result"
    },
    {
     "data": {
      "text/plain": "<Figure size 432x288 with 1 Axes>",
      "image/png": "[encoded data removed]"
     },
     "metadata": {
      "needs_background": "light"
     },
     "output_type": "display_data"
    }
   ],
   "source": [
    "import matplotlib.pyplot as plot\n",
    "\n",
    "x = water_data['mortality']\n",
    "y = water_data['hardness']\n",
    "legend = water_data['location']\n",
    "\n",
    "plot.scatter(x, y)"
   ],
   "metadata": {
    "collapsed": false,
    "pycharm": {
     "name": "#%%\n"
    }
   }
  },
  {
   "cell_type": "code",
   "execution_count": 12,
   "outputs": [
    {
     "name": "stdout",
     "output_type": "stream",
     "text": [
      "pearson:  (-0.6548486232042465, 1.033133926034952e-08)\n",
      "spearman:  SpearmanrResult(correlation=-0.6316646189166502, pvalue=4.79546153722838e-08)\n"
     ]
    }
   ],
   "source": [
    "from scipy.stats import spearmanr, pearsonr\n",
    "\n",
    "print('pearson: ', pearsonr(x, y))\n",
    "print('spearman: ', spearmanr(x, y))"
   ],
   "metadata": {
    "collapsed": false,
    "pycharm": {
     "name": "#%%\n"
    }
   }
  },
  {
   "cell_type": "code",
   "source": [
    "import sklearn.linear_model as lm\n",
    "\n",
    "xx = water_data[['mortality']].values\n",
    "yy = water_data['hardness'].values\n",
    "\n",
    "slr = lm.LinearRegression()\n",
    "slr.fit(xx, yy)\n",
    "yy_pred = slr.predict(xx)\n",
    "print('Slope: {:.2f}'.format(slr.coef_[0]))\n",
    "print('Intercept: {:.2f}'.format(slr.intercept_))\n",
    "\n",
    "plot.scatter(xx, yy)\n",
    "plot.plot(xx, slr.predict(xx), color='red', linewidth=2)\n",
    "\n",
    "plot.scatter(slr.predict(xx) - yy, slr.predict(xx), color='green', linewidth=2)"
   ],
   "metadata": {
    "collapsed": false,
    "pycharm": {
     "name": "#%%\n"
    }
   },
   "execution_count": 27,
   "outputs": [
    {
     "name": "stdout",
     "output_type": "stream",
     "text": [
      "Slope: -0.13\n",
      "Intercept: 249.78\n"
     ]
    },
    {
     "data": {
      "text/plain": "<matplotlib.collections.PathCollection at 0x1ca3abf2520>"
     },
     "execution_count": 27,
     "metadata": {},
     "output_type": "execute_result"
    },
    {
     "data": {
      "text/plain": "<Figure size 432x288 with 1 Axes>",
      "image/png": "[encoded data removed]"
     },
     "metadata": {
      "needs_background": "light"
     },
     "output_type": "display_data"
    }
   ]
  },
  {
   "cell_type": "code",
   "execution_count": 23,
   "outputs": [
    {
     "data": {
      "text/plain": "LinregressResult(slope=-0.1329245327325784, intercept=249.77692756960676, rvalue=-0.6548486232042465, pvalue=1.0331339260349543e-08, stderr=0.019972027679436)"
     },
     "execution_count": 23,
     "metadata": {},
     "output_type": "execute_result"
    }
   ],
   "source": [
    "import scipy.stats as st\n",
    "slope, intercept, r_value, p_value, std_err = st.linregress(x, y)\n",
    "st.linregress(x, y)"
   ],
   "metadata": {
    "collapsed": false,
    "pycharm": {
     "name": "#%%\n"
    }
   }
  },
  {
   "cell_type": "markdown",
   "source": [
    "Задание 2.\n",
    "Ответить на вопрос: сохраняется ли аналогичная зависимость для северных и южных городов по отдельности?\n",
    "\n",
    "- Разделить данные на 2 группы\n",
    "- Повторить аналогичные шаги из пункта 1 для каждой группы по отдельности"
   ],
   "metadata": {
    "collapsed": false,
    "pycharm": {
     "name": "#%% md\n"
    }
   }
  },
  {
   "cell_type": "code",
   "execution_count": 32,
   "outputs": [
    {
     "data": {
      "text/plain": "<matplotlib.collections.PathCollection at 0x1ca3aedde50>"
     },
     "execution_count": 32,
     "metadata": {},
     "output_type": "execute_result"
    },
    {
     "data": {
      "text/plain": "<Figure size 432x288 with 1 Axes>",
      "image/png": "[encoded data removed]"
     },
     "metadata": {
      "needs_background": "light"
     },
     "output_type": "display_data"
    }
   ],
   "source": [
    "x_n = water_data[water_data[\"location\"] == \"North\"]['mortality']\n",
    "x_s = water_data[water_data[\"location\"] == \"South\"]['mortality']\n",
    "y_n = water_data[water_data[\"location\"] == \"North\"]['hardness']\n",
    "y_s = water_data[water_data[\"location\"] == \"South\"]['hardness']\n",
    "\n",
    "plot.scatter(x_n, y_n)\n",
    "plot.scatter(x_s, y_s)"
   ],
   "metadata": {
    "collapsed": false,
    "pycharm": {
     "name": "#%%\n"
    }
   }
  },
  {
   "cell_type": "code",
   "execution_count": null,
   "outputs": [],
   "source": [],
   "metadata": {
    "collapsed": false,
    "pycharm": {
     "name": "#%%\n"
    }
   }
  }
 ],
 "metadata": {
  "kernelspec": {
   "display_name": "Python 3",
   "language": "python",
   "name": "python3"
  },
  "language_info": {
   "codemirror_mode": {
    "name": "ipython",
    "version": 2
   },
   "file_extension": ".py",
   "mimetype": "text/x-python",
   "name": "python",
   "nbconvert_exporter": "python",
   "pygments_lexer": "ipython2",
   "version": "2.7.6"
  }
 },
 "nbformat": 4,
 "nbformat_minor": 0
}