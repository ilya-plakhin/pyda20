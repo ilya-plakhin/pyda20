{
 "cells": [
  {
   "cell_type": "code",
   "execution_count": 11,
   "metadata": {},
   "outputs": [
    {
     "name": "stdout",
     "output_type": "stream",
     "text": [
      "Фраза 1 длиннее фразы 2\n"
     ]
    }
   ],
   "source": [
    "phrase_1 = 'Насколько проще было бы писать программы, если бы не заказчики'\n",
    "phrase_2 = '640Кб должно хватить для любых задач. Билл Гейтс (по легенде)'\n",
    "if len(phrase_1) > len(phrase_2):\n",
    "    print('Фраза 1 длиннее фразы 2')\n",
    "elif len(phrase_1) < len(phrase_2):\n",
    "    print('Фраза 2 длиннее фразы 1')\n",
    "else:\n",
    "    print('Фразы равной длины')\n"
   ]
  },
  {
   "cell_type": "code",
   "execution_count": 20,
   "metadata": {},
   "outputs": [
    {
     "name": "stdout",
     "output_type": "stream",
     "text": [
      "Обычный год\n"
     ]
    }
   ],
   "source": [
    "Year = 2019\n",
    "if Year % 4 == 0:\n",
    "    print('Високосный год')\n",
    "else:\n",
    "    print('Обычный год')\n"
   ]
  },
  {
   "cell_type": "code",
   "execution_count": 1,
   "metadata": {},
   "outputs": [
    {
     "name": "stdout",
     "output_type": "stream",
     "text": [
      "Fish\n"
     ]
    }
   ],
   "source": [
    "day = 13#int(input())\n",
    "month = 'March'#str(input())\n",
    "if (month == 'March' and day >= 21) or (month == 'April' and day <= 19):\n",
    "    print('Ram')\n",
    "elif (month == 'April' and day >= 20) or (month == 'May' and day <= 20):\n",
    "    print('Bull')\n",
    "elif (month == 'May' and day >= 21) or (month == 'June' and day <= 21):\n",
    "    print('Twins')\n",
    "elif (month == 'June' and day >= 22) or (month == 'July' and day <= 22):\n",
    "    print('Crab')\n",
    "elif (month == 'July' and day >= 23) or (month == 'August' and day <= 22):\n",
    "    print('Lion')\n",
    "elif (month == 'August' and day >= 23) or (month == 'September' and day <= 22):\n",
    "    print('Virgin')\n",
    "elif (month == 'September' and day >= 23) or (month == 'October' and day <= 23):\n",
    "    print('Balance')\n",
    "elif (month == 'October' and day >= 24) or (month == 'November' and day <= 21):\n",
    "    print('Scorpion')\n",
    "elif (month == 'November' and day >= 22) or (month == 'December' and day <= 21):\n",
    "    print('Archer')\n",
    "elif (month == 'December' and day >= 22) or (month == 'January' and day <= 19):\n",
    "    print('Goat')\n",
    "elif (month == 'January' and day >= 20) or (month == 'February' and day <= 18):\n",
    "    print('Water Bearer')\n",
    "else:\n",
    "    print('Fish')\n"
   ]
  },
  {
   "cell_type": "code",
   "execution_count": 8,
   "metadata": {},
   "outputs": [
    {
     "name": "stdout",
     "output_type": "stream",
     "text": [
      "ski\n"
     ]
    }
   ],
   "source": [
    "length = 213#int(input())\n",
    "width = 30#int(input())\n",
    "height = 13#int(input())\n",
    "if (length > 200):\n",
    "    print('ski')\n",
    "elif (length <= 15 and width <= 15 and height <= 15):\n",
    "    print('box #1')\n",
    "elif (15 > length <= 50 or 15 > width <= 50 or 15 > height <= 50):\n",
    "    print('box #2')\n",
    "else:\n",
    "    print('box #3')"
   ]
  },
  {
   "cell_type": "code",
   "execution_count": null,
   "metadata": {},
   "outputs": [],
   "source": []
  }
 ],
 "metadata": {
  "kernelspec": {
   "display_name": "Python 3",
   "language": "python",
   "name": "python3"
  },
  "language_info": {
   "codemirror_mode": {
    "name": "ipython",
    "version": 3
   },
   "file_extension": ".py",
   "mimetype": "text/x-python",
   "name": "python",
   "nbconvert_exporter": "python",
   "pygments_lexer": "ipython3",
   "version": "3.8.5"
  }
 },
 "nbformat": 4,
 "nbformat_minor": 4
}
