{
 "cells": [
  {
   "cell_type": "raw",
   "metadata": {},
   "source": [
    "Задание 1\n",
    "Печатные газеты использовали свой формат дат для каждого выпуска. Для каждой газеты из списка напишите формат указанной даты для перевода в объект datetime:\n",
    "The Moscow Times - Wednesday, October 2, 2002\n",
    "The Guardian - Friday, 11.10.13\n",
    "Daily News - Thursday, 18 August 1977"
   ]
  },
  {
   "cell_type": "code",
   "execution_count": 1,
   "metadata": {},
   "outputs": [],
   "source": [
    "import traceback\n",
    "from datetime import datetime as dt\n",
    "from datetime import timedelta as delta"
   ]
  },
  {
   "cell_type": "code",
   "execution_count": 10,
   "metadata": {},
   "outputs": [
    {
     "name": "stdout",
     "output_type": "stream",
     "text": [
      "2002-10-02 00:00:00\n",
      "2013-10-11 00:00:00\n",
      "1977-08-18 00:00:00\n"
     ]
    }
   ],
   "source": [
    "def daily_mail_format(dm, dt_str):\n",
    "    \n",
    "    if dm == 'The Moscow Times':\n",
    "        dat = dt.strptime(dt_str, '%A, %B %d, %Y')\n",
    "    elif dm == 'The Guardian':\n",
    "        dat = dt.strptime(dt_str, '%A, %d.%m.%y')\n",
    "    elif dm == 'Daily News':\n",
    "        dat = dt.strptime(dt_str, '%A, %d %B %Y')\n",
    "    return dat\n",
    "\n",
    "d1 = 'Wednesday, October 2, 2002'\n",
    "d2 = 'Friday, 11.10.13'\n",
    "d3 = 'Thursday, 18 August 1977'\n",
    "\n",
    "print(daily_mail_format('The Moscow Times', d1))\n",
    "print(daily_mail_format('The Guardian', d2))\n",
    "print(daily_mail_format('Daily News', d3))"
   ]
  },
  {
   "cell_type": "raw",
   "metadata": {},
   "source": [
    "Задание 2\n",
    "Дан поток дат в формате YYYY-MM-DD, в которых встречаются некорректные значения:\n",
    "stream = [‘2018-04-02’, ‘2018-02-29’, ‘2018-19-02’]\n",
    "\n",
    "Напишите функцию, которая проверяет эти даты на корректность. Т. е. для каждой даты возвращает True (дата корректна) или False (некорректная дата)."
   ]
  },
  {
   "cell_type": "code",
   "execution_count": 16,
   "metadata": {},
   "outputs": [
    {
     "name": "stdout",
     "output_type": "stream",
     "text": [
      "2018-04-02 - True\n",
      "2018-02-29 - False\n",
      "2018-19-02 - False\n"
     ]
    }
   ],
   "source": [
    "stream = ['2018-04-02', '2018-02-29', '2018-19-02']\n",
    "\n",
    "def cast_date(str_):\n",
    "    try:\n",
    "        dt.strptime(str_, '%Y-%m-%d')\n",
    "        return True\n",
    "    except:\n",
    "        return False\n",
    "\n",
    "for dat in stream:\n",
    "    print(dat, '-', cast_date(dat))"
   ]
  },
  {
   "cell_type": "raw",
   "metadata": {},
   "source": [
    "Задание 3\n",
    "Напишите функцию date_range, которая возвращает список дат за период от start_date до end_date. Даты должны вводиться в формате YYYY-MM-DD. В случае неверного формата или при start_date > end_date должен возвращаться пустой список."
   ]
  },
  {
   "cell_type": "code",
   "execution_count": 9,
   "metadata": {},
   "outputs": [
    {
     "data": {
      "text/plain": [
       "['2021-02-20',\n",
       " '2021-02-21',\n",
       " '2021-02-22',\n",
       " '2021-02-23',\n",
       " '2021-02-24',\n",
       " '2021-02-25',\n",
       " '2021-02-26',\n",
       " '2021-02-27',\n",
       " '2021-02-28',\n",
       " '2021-03-01']"
      ]
     },
     "execution_count": 9,
     "metadata": {},
     "output_type": "execute_result"
    }
   ],
   "source": [
    "def date_range(**args):\n",
    "    lst = []\n",
    "    for dat in args.values():\n",
    "        try:\n",
    "            dt.strptime(dat, '%Y-%m-%d')\n",
    "        except:\n",
    "            return dat + ' - incorrect date!'\n",
    "    st_dt, e_dt = dt.strptime(args['start_date'], '%Y-%m-%d'), dt.strptime(args['end_date'], '%Y-%m-%d') + delta(days=1)\n",
    "    if st_dt <= e_dt:\n",
    "        while st_dt != e_dt:\n",
    "            lst.append(st_dt.strftime('%Y-%m-%d')) \n",
    "            st_dt += delta(days=1)\n",
    "    return lst\n",
    "\n",
    "date_range(start_date = '2021-02-20', end_date = '2021-03-01')"
   ]
  }
 ],
 "metadata": {
  "kernelspec": {
   "display_name": "Python 3",
   "language": "python",
   "name": "python3"
  },
  "language_info": {
   "codemirror_mode": {
    "name": "ipython",
    "version": 3
   },
   "file_extension": ".py",
   "mimetype": "text/x-python",
   "name": "python",
   "nbconvert_exporter": "python",
   "pygments_lexer": "ipython3",
   "version": "3.8.5"
  }
 },
 "nbformat": 4,
 "nbformat_minor": 4
}
