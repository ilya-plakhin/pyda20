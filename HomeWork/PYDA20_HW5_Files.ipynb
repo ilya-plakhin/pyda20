{
 "cells": [
  {
   "cell_type": "raw",
   "metadata": {},
   "source": [
    "Переведите содержимое файла purchase_log.txt в словарь purchases вида:\n",
    "{‘1840e0b9d4’: ‘Продукты’, …}"
   ]
  },
  {
   "cell_type": "code",
   "execution_count": 19,
   "metadata": {},
   "outputs": [
    {
     "name": "stdout",
     "output_type": "stream",
     "text": [
      "{'1840e0b9d4': 'Продукты', '4e4f90fcfb': 'Электроника', 'afea8d72fc': 'Электроника', '373a6055fe': 'Бытовая техника', '9b2ab046f3': 'Электроника', '9f39d307c3': 'Электроника', '44edeffc91': 'Продукты', '704474fa2d': 'Продукты', '1de31be403': 'Бытовая техника', 'b71f36a5e4': 'Продукты', '79843a685a': 'Продукты', 'ff68cee0d6': 'Бытовая техника', 'e8447c40e2': 'Досуг', '98d290be27': 'Электроника', 'fa0079a5a8': 'Досуг', '22d2f03a17': 'Досуг', '3f8e1ccd3f': 'Электроника', '81a9988b83': 'Электроника', '65f44a2eb7': 'Досуг'}\n"
     ]
    }
   ],
   "source": [
    "purchases = dict()\n",
    "with open('purchase_log_copy.txt', mode=\"r\", encoding=\"utf-8\") as pl:\n",
    "    for row in pl:\n",
    "        data = js.loads(row)\n",
    "        if data['user_id'] != 'user_id':\n",
    "            purchases[data['user_id']] = data['category']\n",
    "    pl.close()\n",
    "print(purchases)"
   ]
  },
  {
   "cell_type": "raw",
   "metadata": {},
   "source": [
    "Для каждого user_id в файле visit_log.csv определите третий столбец с категорией покупки (если покупка была, сам файл visit_log.csv изменять не надо). Запишите в файл funnel.csv визиты из файла visit_log.csv, в которых были покупки с указанием категории.\n",
    "Учтите условия на данные:\n",
    "содержимое purchase_log.txt помещается в оперативную память компьютера\n",
    "содержимое visit_log.csv - нет; используйте только построчную обработку этого файла"
   ]
  },
  {
   "cell_type": "code",
   "execution_count": 22,
   "metadata": {},
   "outputs": [],
   "source": [
    "import json as js\n",
    "purchases = dict()\n",
    "with open('purchase_log.txt', mode=\"r\", encoding=\"utf-8\") as pl:\n",
    "    for row in pl:\n",
    "        data = js.loads(row)\n",
    "        if data['user_id'] != 'user_id':\n",
    "            purchases[data['user_id']] = data['category']\n",
    "    pl.close()"
   ]
  },
  {
   "cell_type": "code",
   "execution_count": 35,
   "metadata": {},
   "outputs": [],
   "source": [
    "with open('funnel.csv', mode=\"w\", encoding=\"utf-8\") as f:\n",
    "    with open('visit_log.csv', mode=\"r\") as vl:\n",
    "        for row in vl:\n",
    "            r = ''\n",
    "            str_ = row.rstrip('\\n').split(',')\n",
    "            if purchases.get(str_[0]) != None:\n",
    "                r = row.replace('\\n','') + ',' + str(purchases.get(str_[0])) + '\\n'\n",
    "                #r.replace('\\n', ',' + str(purchases.get(str_[0])) + '\\n')\n",
    "            f.write(r)\n",
    "            #break\n",
    "        vl.close()\n",
    "    f.close()"
   ]
  }
 ],
 "metadata": {
  "kernelspec": {
   "display_name": "Python 3",
   "language": "python",
   "name": "python3"
  },
  "language_info": {
   "codemirror_mode": {
    "name": "ipython",
    "version": 3
   },
   "file_extension": ".py",
   "mimetype": "text/x-python",
   "name": "python",
   "nbconvert_exporter": "python",
   "pygments_lexer": "ipython3",
   "version": "3.8.5"
  }
 },
 "nbformat": 4,
 "nbformat_minor": 4
}
